{
  "nbformat": 4,
  "nbformat_minor": 0,
  "metadata": {
    "colab": {
      "name": "BIRD 2019 - LINEAR",
      "provenance": [],
      "collapsed_sections": [],
      "include_colab_link": true
    },
    "kernelspec": {
      "display_name": "Python 3",
      "name": "python3"
    }
  },
  "cells": [
    {
      "cell_type": "markdown",
      "metadata": {
        "id": "view-in-github",
        "colab_type": "text"
      },
      "source": [
        "<a href=\"https://colab.research.google.com/github/achmadbadri/A--BIRD-2019/blob/main/BIRD_2019_LINEAR.ipynb\" target=\"_parent\"><img src=\"https://colab.research.google.com/assets/colab-badge.svg\" alt=\"Open In Colab\"/></a>"
      ]
    },
    {
      "cell_type": "code",
      "metadata": {
        "id": "b5oZgVhWiMQ4"
      },
      "source": [
        "# Code to Measure time taken by program to execute.\n",
        "import time\n",
        "  \n",
        "# store starting time\n",
        "begin = time.time()"
      ],
      "execution_count": 1,
      "outputs": []
    },
    {
      "cell_type": "code",
      "metadata": {
        "id": "imVL_RBkSiEM"
      },
      "source": [
        "import keras\n",
        "from keras.layers import Dense\n",
        "from keras.layers import LSTM\n",
        "from keras.layers import Dropout\n",
        "import pandas as pd \n",
        "import pandas_datareader.data as web\n",
        "import datetime\n",
        "import numpy as np \n",
        "from matplotlib import style\n",
        "from google.colab import files\n",
        "# Visualize the training stock data:\n",
        "import matplotlib.pyplot as plt\n",
        "%matplotlib inline\n",
        "\n",
        "# ignore warnings \n",
        "import warnings\n",
        "warnings.filterwarnings('ignore')"
      ],
      "execution_count": 2,
      "outputs": []
    },
    {
      "cell_type": "code",
      "metadata": {
        "id": "7mgHVWneS0-0",
        "colab": {
          "base_uri": "https://localhost:8080/"
        },
        "outputId": "f95b4d78-2c35-48fb-a688-b77eeeb1a1c1"
      },
      "source": [
        "# Get the stock data using yahoo API:\n",
        "style.use('ggplot')\n",
        "\n",
        "# get 2014-2018 data to train our model\n",
        "start = datetime.datetime(2014,1,1)\n",
        "end = datetime.datetime(2018,12,31)\n",
        "df = web.DataReader(\"BIRD.JK\", 'yahoo', start, end) \n",
        "\n",
        "# get 2019 data to test our model on \n",
        "start = datetime.datetime(2017,11,8)\n",
        "end = datetime.datetime(2019,12,31)\n",
        "test_df = web.DataReader(\"BIRD.JK\", 'yahoo', start, end) \n",
        "print(df.shape)\n",
        "print(test_df.shape)"
      ],
      "execution_count": 3,
      "outputs": [
        {
          "output_type": "stream",
          "text": [
            "(1037, 6)\n",
            "(556, 6)\n"
          ],
          "name": "stdout"
        }
      ]
    },
    {
      "cell_type": "code",
      "metadata": {
        "id": "H598YUDjU7Sd",
        "colab": {
          "base_uri": "https://localhost:8080/"
        },
        "outputId": "65f32fea-4ab8-4f31-a221-3496887e4cdc"
      },
      "source": [
        "# Create train set of adj close prices data:\n",
        "train_data = df.loc[:,'Adj Close'].to_numpy()\n",
        "print(train_data.shape) # 1258 \n",
        "\n",
        "\n",
        "# Apply normalization before feeding to LSTM using sklearn:\n",
        "from sklearn.preprocessing import MinMaxScaler\n",
        "\n",
        "scaler = MinMaxScaler()\n",
        "train_data = train_data.reshape(-1,1)\n",
        "\n",
        "scaler.fit(train_data)\n",
        "train_data = scaler.transform(train_data)"
      ],
      "execution_count": 4,
      "outputs": [
        {
          "output_type": "stream",
          "text": [
            "(1037,)\n"
          ],
          "name": "stdout"
        }
      ]
    },
    {
      "cell_type": "code",
      "metadata": {
        "id": "8ITZZaGnVFTQ",
        "colab": {
          "base_uri": "https://localhost:8080/"
        },
        "outputId": "58a0643c-ca8e-4ce1-a8fe-4d2e96bbcab6"
      },
      "source": [
        "'''Function to create a dataset to feed into an LSTM'''\n",
        "def create_dataset(dataset, look_back):\n",
        "    dataX, dataY = [], []\n",
        "    for i in range(len(dataset)-look_back):\n",
        "        a = dataset[i:(i + look_back), 0]\n",
        "        dataX.append(a)\n",
        "        dataY.append(dataset[i + look_back, 0])\n",
        "    return np.array(dataX), np.array(dataY)\n",
        "    \n",
        "    \n",
        "# Create the data to train our model on:\n",
        "time_steps = 300\n",
        "X_train, y_train = create_dataset(train_data, time_steps)\n",
        "\n",
        "# reshape it [samples, time steps, features]\n",
        "X_train = np.reshape(X_train, (X_train.shape[0], 300, 1))\n",
        "\n",
        "print(X_train.shape)\n",
        "\n",
        "\n",
        "# Visualizing our data with prints: \n",
        "print('X_train:')\n",
        "print(str(scaler.inverse_transform(X_train[0])))\n",
        "print(\"\\n\")\n",
        "print('y_train: ' + str(scaler.inverse_transform(y_train[0].reshape(-1,1)))+'\\n')"
      ],
      "execution_count": 5,
      "outputs": [
        {
          "output_type": "stream",
          "text": [
            "(737, 300, 1)\n",
            "X_train:\n",
            "[[ 6897.30419922]\n",
            " [ 7059.32128906]\n",
            " [ 6966.73925781]\n",
            " [ 6712.14111328]\n",
            " [ 6943.59423828]\n",
            " [ 6966.73925781]\n",
            " [ 7036.17578125]\n",
            " [ 6920.44873047]\n",
            " [ 7036.17578125]\n",
            " [ 6989.88476562]\n",
            " [ 6943.59423828]\n",
            " [ 6874.15869141]\n",
            " [ 7036.17578125]\n",
            " [ 6943.59423828]\n",
            " [ 6827.86767578]\n",
            " [ 6897.30419922]\n",
            " [ 6920.44873047]\n",
            " [ 6943.59423828]\n",
            " [ 6851.01318359]\n",
            " [ 6758.43164062]\n",
            " [ 7128.75732422]\n",
            " [ 6989.88476562]\n",
            " [ 6989.88476562]\n",
            " [ 7151.90234375]\n",
            " [ 7198.19335938]\n",
            " [ 7684.24414062]\n",
            " [ 7846.26171875]\n",
            " [ 7915.69775391]\n",
            " [ 7915.69775391]\n",
            " [ 8054.56933594]\n",
            " [ 8054.56933594]\n",
            " [ 8124.00537109]\n",
            " [ 8262.87792969]\n",
            " [ 8656.34765625]\n",
            " [ 8772.07421875]\n",
            " [ 8772.07421875]\n",
            " [ 8748.92773438]\n",
            " [ 8725.78417969]\n",
            " [ 8748.92773438]\n",
            " [ 8934.09179688]\n",
            " [ 8957.23535156]\n",
            " [ 9003.52734375]\n",
            " [ 9258.12597656]\n",
            " [ 9258.12597656]\n",
            " [ 9697.88671875]\n",
            " [ 9906.1953125 ]\n",
            " [10276.51953125]\n",
            " [10716.28125   ]\n",
            " [11202.33203125]\n",
            " [10669.99121094]\n",
            " [10623.70019531]\n",
            " [10207.08300781]\n",
            " [10253.37402344]\n",
            " [10554.26367188]\n",
            " [10183.93847656]\n",
            " [10183.93847656]\n",
            " [10183.93847656]\n",
            " [10160.79394531]\n",
            " [10091.35839844]\n",
            " [10068.21289062]\n",
            " [ 9721.03222656]\n",
            " [ 9281.27148438]\n",
            " [ 9651.59570312]\n",
            " [ 9836.7578125 ]\n",
            " [ 9721.03222656]\n",
            " [ 9582.16015625]\n",
            " [ 9489.57910156]\n",
            " [ 9443.2890625 ]\n",
            " [ 9721.03222656]\n",
            " [ 9582.16015625]\n",
            " [ 9721.03222656]\n",
            " [ 9721.03222656]\n",
            " [ 9836.7578125 ]\n",
            " [10045.06640625]\n",
            " [ 9998.77636719]\n",
            " [ 9929.33984375]\n",
            " [ 9998.77636719]\n",
            " [10091.35839844]\n",
            " [ 9906.1953125 ]\n",
            " [ 9721.03222656]\n",
            " [ 9651.59570312]\n",
            " [ 9721.03222656]\n",
            " [ 9790.46777344]\n",
            " [ 9489.57910156]\n",
            " [ 9466.43261719]\n",
            " [ 9466.43261719]\n",
            " [ 9466.43261719]\n",
            " [ 9258.12597656]\n",
            " [ 9165.54394531]\n",
            " [ 8980.38085938]\n",
            " [ 8795.21972656]\n",
            " [ 9119.25292969]\n",
            " [ 9119.25292969]\n",
            " [ 9234.98046875]\n",
            " [ 9119.25292969]\n",
            " [ 9350.70703125]\n",
            " [ 9258.12597656]\n",
            " [ 9188.68945312]\n",
            " [ 9258.12597656]\n",
            " [ 9211.83496094]\n",
            " [ 9234.98046875]\n",
            " [ 9234.98046875]\n",
            " [ 9072.96289062]\n",
            " [ 9072.96289062]\n",
            " [ 8980.38085938]\n",
            " [ 9049.81738281]\n",
            " [ 9049.81738281]\n",
            " [ 9049.81738281]\n",
            " [ 9049.81738281]\n",
            " [ 8980.38085938]\n",
            " [ 8610.05761719]\n",
            " [ 8610.05761719]\n",
            " [ 8424.89453125]\n",
            " [ 8471.18457031]\n",
            " [ 8424.89453125]\n",
            " [ 8147.15087891]\n",
            " [ 8170.29638672]\n",
            " [ 8170.29638672]\n",
            " [ 8170.29638672]\n",
            " [ 7799.97119141]\n",
            " [ 7591.66259766]\n",
            " [ 7614.80810547]\n",
            " [ 7591.66259766]\n",
            " [ 7406.5       ]\n",
            " [ 7406.5       ]\n",
            " [ 7545.37255859]\n",
            " [ 7591.66259766]\n",
            " [ 8286.02441406]\n",
            " [ 8077.71484375]\n",
            " [ 7661.09912109]\n",
            " [ 7823.11669922]\n",
            " [ 7961.98779297]\n",
            " [ 7823.11669922]\n",
            " [ 7684.24414062]\n",
            " [ 8239.73242188]\n",
            " [ 8008.27929688]\n",
            " [ 7869.40673828]\n",
            " [ 7730.53515625]\n",
            " [ 7707.39013672]\n",
            " [ 7776.82568359]\n",
            " [ 7846.26171875]\n",
            " [ 7545.37255859]\n",
            " [ 7753.6796875 ]\n",
            " [ 7637.953125  ]\n",
            " [ 7637.953125  ]\n",
            " [ 7406.5       ]\n",
            " [ 7545.37255859]\n",
            " [ 7406.5       ]\n",
            " [ 7446.36621094]\n",
            " [ 7446.36621094]\n",
            " [ 7353.28613281]\n",
            " [ 7446.36621094]\n",
            " [ 7236.93798828]\n",
            " [ 7446.36621094]\n",
            " [ 7446.36621094]\n",
            " [ 7399.82617188]\n",
            " [ 7376.55664062]\n",
            " [ 7446.36621094]\n",
            " [ 7423.09667969]\n",
            " [ 7423.09667969]\n",
            " [ 7399.82617188]\n",
            " [ 7399.82617188]\n",
            " [ 7446.36621094]\n",
            " [ 7446.36621094]\n",
            " [ 7399.82617188]\n",
            " [ 7399.82617188]\n",
            " [ 7423.09667969]\n",
            " [ 7469.63623047]\n",
            " [ 6050.17285156]\n",
            " [ 7260.20800781]\n",
            " [ 7376.55664062]\n",
            " [ 7027.50830078]\n",
            " [ 7446.36621094]\n",
            " [ 7446.36621094]\n",
            " [ 7306.74755859]\n",
            " [ 7167.12841797]\n",
            " [ 7050.77832031]\n",
            " [ 7074.04833984]\n",
            " [ 7446.36621094]\n",
            " [ 7446.36621094]\n",
            " [ 7446.36621094]\n",
            " [ 7167.12841797]\n",
            " [ 7306.74755859]\n",
            " [ 7376.55664062]\n",
            " [ 7213.66796875]\n",
            " [ 7213.66796875]\n",
            " [ 6887.88916016]\n",
            " [ 6771.53955078]\n",
            " [ 7213.66796875]\n",
            " [ 7004.23828125]\n",
            " [ 6980.96875   ]\n",
            " [ 6957.69873047]\n",
            " [ 6562.11035156]\n",
            " [ 6562.11035156]\n",
            " [ 6282.87207031]\n",
            " [ 6282.87207031]\n",
            " [ 6399.22070312]\n",
            " [ 6352.68115234]\n",
            " [ 6399.22070312]\n",
            " [ 6352.68115234]\n",
            " [ 6329.41210938]\n",
            " [ 6282.87207031]\n",
            " [ 6282.87207031]\n",
            " [ 6143.25244141]\n",
            " [ 6050.17285156]\n",
            " [ 6050.17285156]\n",
            " [ 6050.17285156]\n",
            " [ 6096.71240234]\n",
            " [ 6050.17285156]\n",
            " [ 6236.33203125]\n",
            " [ 6189.79248047]\n",
            " [ 6352.68115234]\n",
            " [ 6352.68115234]\n",
            " [ 6329.41210938]\n",
            " [ 6329.41210938]\n",
            " [ 6282.87207031]\n",
            " [ 6236.33203125]\n",
            " [ 6236.33203125]\n",
            " [ 6259.60253906]\n",
            " [ 6119.98291016]\n",
            " [ 6143.25244141]\n",
            " [ 6166.52246094]\n",
            " [ 6073.44287109]\n",
            " [ 5724.39453125]\n",
            " [ 5794.20410156]\n",
            " [ 5770.93359375]\n",
            " [ 5724.39453125]\n",
            " [ 5701.12451172]\n",
            " [ 5724.39453125]\n",
            " [ 5584.77441406]\n",
            " [ 5561.50488281]\n",
            " [ 5352.07617188]\n",
            " [ 5235.7265625 ]\n",
            " [ 4956.48779297]\n",
            " [ 4886.67822266]\n",
            " [ 4933.21777344]\n",
            " [ 4933.21777344]\n",
            " [ 4933.21777344]\n",
            " [ 4840.13818359]\n",
            " [ 4886.67822266]\n",
            " [ 4979.7578125 ]\n",
            " [ 5375.34570312]\n",
            " [ 5770.93359375]\n",
            " [ 5584.77441406]\n",
            " [ 6422.49072266]\n",
            " [ 6422.49072266]\n",
            " [ 6050.17285156]\n",
            " [ 6050.17285156]\n",
            " [ 6236.33203125]\n",
            " [ 5864.01367188]\n",
            " [ 5910.55322266]\n",
            " [ 5933.82373047]\n",
            " [ 5724.39453125]\n",
            " [ 5724.39453125]\n",
            " [ 5817.47363281]\n",
            " [ 6143.25244141]\n",
            " [ 6469.03076172]\n",
            " [ 6492.30029297]\n",
            " [ 6794.80957031]\n",
            " [ 6492.30029297]\n",
            " [ 6445.76074219]\n",
            " [ 6469.03076172]\n",
            " [ 6469.03076172]\n",
            " [ 6375.95117188]\n",
            " [ 6236.33203125]\n",
            " [ 6213.0625    ]\n",
            " [ 6050.17285156]\n",
            " [ 6096.71240234]\n",
            " [ 6352.68115234]\n",
            " [ 6352.68115234]\n",
            " [ 6375.95117188]\n",
            " [ 6515.57080078]\n",
            " [ 6655.19042969]\n",
            " [ 6608.65039062]\n",
            " [ 6515.57080078]\n",
            " [ 6515.57080078]\n",
            " [ 6608.65039062]\n",
            " [ 6515.57080078]\n",
            " [ 6538.84033203]\n",
            " [ 6655.19042969]\n",
            " [ 6655.19042969]\n",
            " [ 6701.72998047]\n",
            " [ 6608.65039062]\n",
            " [ 6631.91992188]\n",
            " [ 6794.80957031]\n",
            " [ 6538.84033203]\n",
            " [ 6445.76074219]\n",
            " [ 6445.76074219]\n",
            " [ 6445.76074219]\n",
            " [ 6213.0625    ]\n",
            " [ 6236.33203125]\n",
            " [ 6073.44287109]\n",
            " [ 6050.17285156]\n",
            " [ 5817.47363281]\n",
            " [ 6003.63330078]\n",
            " [ 5770.93359375]\n",
            " [ 5212.45703125]\n",
            " [ 5026.29785156]\n",
            " [ 5212.45703125]\n",
            " [ 5584.77441406]]\n",
            "\n",
            "\n",
            "y_train: [[5305.53613281]]\n",
            "\n"
          ],
          "name": "stdout"
        }
      ]
    },
    {
      "cell_type": "code",
      "metadata": {
        "colab": {
          "base_uri": "https://localhost:8080/"
        },
        "id": "pmuzZ5TqVR8O",
        "outputId": "1ebc1fe4-bca7-411a-8d75-d1beda36295c"
      },
      "source": [
        "# Build the model \n",
        "model = keras.Sequential()\n",
        "\n",
        "model.add(LSTM(units = 200, return_sequences = True, input_shape = (X_train.shape[1], 1)))\n",
        "model.add(Dropout(0.2))\n",
        "\n",
        "model.add(LSTM(units = 200, return_sequences = False))\n",
        "model.add(Dropout(0.2))\n",
        "\n",
        "# Output layer\n",
        "model.add(Dense(units = 1, activation= 'linear'))\n",
        "# Compiling the RNN\n",
        "model.compile(optimizer = 'adam', loss = 'mean_squared_error', metrics=['accuracy'])\n",
        "\n",
        "# Fitting the model to the Training set\n",
        "history = model.fit(X_train, y_train, epochs = 10, batch_size = 10, validation_split=.30)"
      ],
      "execution_count": 6,
      "outputs": [
        {
          "output_type": "stream",
          "text": [
            "Epoch 1/10\n",
            "52/52 [==============================] - 59s 1s/step - loss: 0.0057 - accuracy: 0.0000e+00 - val_loss: 5.8983e-04 - val_accuracy: 0.0045\n",
            "Epoch 2/10\n",
            "52/52 [==============================] - 53s 1s/step - loss: 7.5516e-04 - accuracy: 0.0000e+00 - val_loss: 1.8402e-04 - val_accuracy: 0.0045\n",
            "Epoch 3/10\n",
            "52/52 [==============================] - 54s 1s/step - loss: 5.8723e-04 - accuracy: 0.0000e+00 - val_loss: 1.5524e-04 - val_accuracy: 0.0045\n",
            "Epoch 4/10\n",
            "52/52 [==============================] - 54s 1s/step - loss: 4.2634e-04 - accuracy: 0.0000e+00 - val_loss: 1.3441e-04 - val_accuracy: 0.0045\n",
            "Epoch 5/10\n",
            "52/52 [==============================] - 54s 1s/step - loss: 4.6298e-04 - accuracy: 0.0000e+00 - val_loss: 1.8243e-04 - val_accuracy: 0.0045\n",
            "Epoch 6/10\n",
            "52/52 [==============================] - 54s 1s/step - loss: 5.6503e-04 - accuracy: 0.0000e+00 - val_loss: 1.9227e-04 - val_accuracy: 0.0045\n",
            "Epoch 7/10\n",
            "52/52 [==============================] - 54s 1s/step - loss: 4.7683e-04 - accuracy: 0.0000e+00 - val_loss: 1.0742e-04 - val_accuracy: 0.0045\n",
            "Epoch 8/10\n",
            "52/52 [==============================] - 54s 1s/step - loss: 4.2687e-04 - accuracy: 0.0000e+00 - val_loss: 1.0070e-04 - val_accuracy: 0.0045\n",
            "Epoch 9/10\n",
            "52/52 [==============================] - 54s 1s/step - loss: 3.4005e-04 - accuracy: 0.0000e+00 - val_loss: 1.3737e-04 - val_accuracy: 0.0045\n",
            "Epoch 10/10\n",
            "52/52 [==============================] - 54s 1s/step - loss: 3.7553e-04 - accuracy: 0.0000e+00 - val_loss: 1.0959e-04 - val_accuracy: 0.0045\n"
          ],
          "name": "stdout"
        }
      ]
    },
    {
      "cell_type": "code",
      "metadata": {
        "id": "VJAAJ_3JRVIu",
        "colab": {
          "base_uri": "https://localhost:8080/"
        },
        "outputId": "b93fb922-d21f-483b-b7e1-c13263a6bfe0"
      },
      "source": [
        "model.summary()"
      ],
      "execution_count": 7,
      "outputs": [
        {
          "output_type": "stream",
          "text": [
            "Model: \"sequential\"\n",
            "_________________________________________________________________\n",
            "Layer (type)                 Output Shape              Param #   \n",
            "=================================================================\n",
            "lstm (LSTM)                  (None, 300, 200)          161600    \n",
            "_________________________________________________________________\n",
            "dropout (Dropout)            (None, 300, 200)          0         \n",
            "_________________________________________________________________\n",
            "lstm_1 (LSTM)                (None, 200)               320800    \n",
            "_________________________________________________________________\n",
            "dropout_1 (Dropout)          (None, 200)               0         \n",
            "_________________________________________________________________\n",
            "dense (Dense)                (None, 1)                 201       \n",
            "=================================================================\n",
            "Total params: 482,601\n",
            "Trainable params: 482,601\n",
            "Non-trainable params: 0\n",
            "_________________________________________________________________\n"
          ],
          "name": "stdout"
        }
      ]
    },
    {
      "cell_type": "code",
      "metadata": {
        "id": "gSKBnwssVVJf",
        "colab": {
          "base_uri": "https://localhost:8080/",
          "height": 299
        },
        "outputId": "ddd94e4c-5ac8-45d0-8d59-e5e7284a269a"
      },
      "source": [
        "# Plot training & validation loss values\n",
        "plt.plot(history.history['loss'])\n",
        "plt.plot(history.history['val_loss'])\n",
        "plt.title('Model loss')\n",
        "plt.ylabel('Loss')\n",
        "plt.xlabel('Epoch')\n",
        "plt.legend(['Train', 'Test'], loc='upper left')\n",
        "plt.savefig('Model Loss 2019 - LINEAR.png')\n",
        "files.download(\"Model Loss 2019 - LINEAR.png\")\n",
        "plt.show()"
      ],
      "execution_count": 8,
      "outputs": [
        {
          "output_type": "display_data",
          "data": {
            "application/javascript": [
              "\n",
              "    async function download(id, filename, size) {\n",
              "      if (!google.colab.kernel.accessAllowed) {\n",
              "        return;\n",
              "      }\n",
              "      const div = document.createElement('div');\n",
              "      const label = document.createElement('label');\n",
              "      label.textContent = `Downloading \"${filename}\": `;\n",
              "      div.appendChild(label);\n",
              "      const progress = document.createElement('progress');\n",
              "      progress.max = size;\n",
              "      div.appendChild(progress);\n",
              "      document.body.appendChild(div);\n",
              "\n",
              "      const buffers = [];\n",
              "      let downloaded = 0;\n",
              "\n",
              "      const channel = await google.colab.kernel.comms.open(id);\n",
              "      // Send a message to notify the kernel that we're ready.\n",
              "      channel.send({})\n",
              "\n",
              "      for await (const message of channel.messages) {\n",
              "        // Send a message to notify the kernel that we're ready.\n",
              "        channel.send({})\n",
              "        if (message.buffers) {\n",
              "          for (const buffer of message.buffers) {\n",
              "            buffers.push(buffer);\n",
              "            downloaded += buffer.byteLength;\n",
              "            progress.value = downloaded;\n",
              "          }\n",
              "        }\n",
              "      }\n",
              "      const blob = new Blob(buffers, {type: 'application/binary'});\n",
              "      const a = document.createElement('a');\n",
              "      a.href = window.URL.createObjectURL(blob);\n",
              "      a.download = filename;\n",
              "      div.appendChild(a);\n",
              "      a.click();\n",
              "      div.remove();\n",
              "    }\n",
              "  "
            ],
            "text/plain": [
              "<IPython.core.display.Javascript object>"
            ]
          },
          "metadata": {
            "tags": []
          }
        },
        {
          "output_type": "display_data",
          "data": {
            "application/javascript": [
              "download(\"download_16a2e4a6-7e1d-4915-b18a-8f033814c055\", \"Model Loss 2019 - LINEAR.png\", 15285)"
            ],
            "text/plain": [
              "<IPython.core.display.Javascript object>"
            ]
          },
          "metadata": {
            "tags": []
          }
        },
        {
          "output_type": "display_data",
          "data": {
            "image/png": "[encoded data removed]",
            "text/plain": [
              "<Figure size 432x288 with 1 Axes>"
            ]
          },
          "metadata": {
            "tags": []
          }
        }
      ]
    },
    {
      "cell_type": "code",
      "metadata": {
        "id": "bawmbe-aVYTG"
      },
      "source": [
        "# Get the stock prices for 2019 to have our model make the predictions\n",
        "test_data = test_df['Adj Close'].values\n",
        "test_data = test_data.reshape(-1,1)\n",
        "test_data = scaler.transform(test_data)\n",
        "\n",
        "# Create the data to test our model on:\n",
        "time_steps = 300\n",
        "X_test, y_test = create_dataset(test_data, time_steps)\n",
        "\n",
        "# store the original vals for plotting the predictions \n",
        "y_test = y_test.reshape(-1,1)\n",
        "true = y_test\n",
        "org_y = scaler.inverse_transform(y_test)\n",
        "\n",
        "# reshape it [samples, time steps, features]\n",
        "X_test = np.reshape(X_test, (X_test.shape[0], 300, 1))\n",
        "\n",
        "# Predict the prices with the model\n",
        "predicted_y = model.predict(X_test)\n",
        "pred = predicted_y\n",
        "predicted_y = scaler.inverse_transform(predicted_y)\n"
      ],
      "execution_count": 9,
      "outputs": []
    },
    {
      "cell_type": "code",
      "metadata": {
        "id": "TCYMPV6E6iAl",
        "colab": {
          "base_uri": "https://localhost:8080/"
        },
        "outputId": "d8ffcc9e-79b0-43e8-c761-adf77cea60c4"
      },
      "source": [
        "# MSE\n",
        "difference_array = np.subtract(true, pred)\n",
        "squared_array = np.square(difference_array)\n",
        "mse = squared_array.mean()\n",
        "print(\"MSE :\", mse)\n",
        "\n",
        "# The RMSE\n",
        "from sklearn.metrics import mean_squared_error, mean_absolute_error\n",
        "print(\"RMSE : %.2f\" % mean_squared_error(true, pred, squared=False))\n",
        "\n",
        "# The MAE\n",
        "print(\"MAE : %.2f\" % mean_absolute_error(true, pred))\n",
        "\n",
        "#Mean Absolute Percentange Error\n",
        "MAPE = np.mean(np.abs((true - pred) / true)) * 100\n",
        "print('MAPE : ', MAPE)\n",
        "\n",
        "# Explained variance score: 1 is perfect prediction\n",
        "from sklearn.metrics import r2_score\n",
        "print('R2 score: %.2f' % r2_score(true, pred))"
      ],
      "execution_count": 10,
      "outputs": [
        {
          "output_type": "stream",
          "text": [
            "MSE : 0.0001241850619906805\n",
            "RMSE : 0.01\n",
            "MAE : 0.01\n",
            "MAPE :  61.248063896141325\n",
            "R2 score: 0.91\n"
          ],
          "name": "stdout"
        }
      ]
    },
    {
      "cell_type": "markdown",
      "metadata": {
        "id": "m0RAfWtxDfnB"
      },
      "source": [
        "We choose the mean square error MSE of all samples as our metric. It can be calculated through Eqn. (47) using test set. Notice that the MSE we calculated are derived from normalized data. That's because there exists huge value gap among di\u000berent stocks. if we use original stock price to evaluate error, the error of high price stocks would probably be much more larger than low price ones, which implies models perform better on high price stocks would very likely to have better overall performance. Thus the performance on low price stocks would become dispensable. To avoid the bias caused by the aforementioned problem we evaluate the error with normalized stock price ranged from -1 to 1. (Li, H., Shen, Y., dan Zhu, Y. 2018. Stock Price Prediction Using attention-based Multi-Input LSTM)"
      ]
    },
    {
      "cell_type": "code",
      "metadata": {
        "id": "Y47_DyXm9Ysk",
        "colab": {
          "base_uri": "https://localhost:8080/",
          "height": 297
        },
        "outputId": "47d99d66-35a8-47b2-d369-70e5ba31e751"
      },
      "source": [
        "predicted_y = pd.DataFrame(predicted_y)\n",
        "org_y = pd.DataFrame(org_y)\n",
        "describe = pd.DataFrame()\n",
        "describe['True Price'] = org_y[0]\n",
        "describe['Prediction'] = predicted_y[0]\n",
        "describe['difference'] = org_y[0] - predicted_y[0]\n",
        "describe['MAPE (%)'] = abs(describe['difference']/org_y[0]*100)\n",
        "describe.describe()"
      ],
      "execution_count": 11,
      "outputs": [
        {
          "output_type": "execute_result",
          "data": {
            "text/html": [
              "<div>\n",
              "<style scoped>\n",
              "    .dataframe tbody tr th:only-of-type {\n",
              "        vertical-align: middle;\n",
              "    }\n",
              "\n",
              "    .dataframe tbody tr th {\n",
              "        vertical-align: top;\n",
              "    }\n",
              "\n",
              "    .dataframe thead th {\n",
              "        text-align: right;\n",
              "    }\n",
              "</style>\n",
              "<table border=\"1\" class=\"dataframe\">\n",
              "  <thead>\n",
              "    <tr style=\"text-align: right;\">\n",
              "      <th></th>\n",
              "      <th>True Price</th>\n",
              "      <th>Prediction</th>\n",
              "      <th>difference</th>\n",
              "      <th>MAPE (%)</th>\n",
              "    </tr>\n",
              "  </thead>\n",
              "  <tbody>\n",
              "    <tr>\n",
              "      <th>count</th>\n",
              "      <td>256.000000</td>\n",
              "      <td>256.000000</td>\n",
              "      <td>256.000000</td>\n",
              "      <td>256.000000</td>\n",
              "    </tr>\n",
              "    <tr>\n",
              "      <th>mean</th>\n",
              "      <td>2758.717835</td>\n",
              "      <td>2793.366211</td>\n",
              "      <td>-34.650283</td>\n",
              "      <td>2.721695</td>\n",
              "    </tr>\n",
              "    <tr>\n",
              "      <th>std</th>\n",
              "      <td>327.063931</td>\n",
              "      <td>309.586487</td>\n",
              "      <td>94.505662</td>\n",
              "      <td>2.565164</td>\n",
              "    </tr>\n",
              "    <tr>\n",
              "      <th>min</th>\n",
              "      <td>2000.000000</td>\n",
              "      <td>2102.070312</td>\n",
              "      <td>-233.836914</td>\n",
              "      <td>0.009129</td>\n",
              "    </tr>\n",
              "    <tr>\n",
              "      <th>25%</th>\n",
              "      <td>2577.500000</td>\n",
              "      <td>2616.060120</td>\n",
              "      <td>-87.547546</td>\n",
              "      <td>0.868954</td>\n",
              "    </tr>\n",
              "    <tr>\n",
              "      <th>50%</th>\n",
              "      <td>2820.000000</td>\n",
              "      <td>2853.739868</td>\n",
              "      <td>-40.871460</td>\n",
              "      <td>2.064347</td>\n",
              "    </tr>\n",
              "    <tr>\n",
              "      <th>75%</th>\n",
              "      <td>2941.566895</td>\n",
              "      <td>2973.263977</td>\n",
              "      <td>-4.918213</td>\n",
              "      <td>3.926947</td>\n",
              "    </tr>\n",
              "    <tr>\n",
              "      <th>max</th>\n",
              "      <td>3404.792725</td>\n",
              "      <td>3384.328125</td>\n",
              "      <td>626.099121</td>\n",
              "      <td>21.664329</td>\n",
              "    </tr>\n",
              "  </tbody>\n",
              "</table>\n",
              "</div>"
            ],
            "text/plain": [
              "        True Price   Prediction  difference    MAPE (%)\n",
              "count   256.000000   256.000000  256.000000  256.000000\n",
              "mean   2758.717835  2793.366211  -34.650283    2.721695\n",
              "std     327.063931   309.586487   94.505662    2.565164\n",
              "min    2000.000000  2102.070312 -233.836914    0.009129\n",
              "25%    2577.500000  2616.060120  -87.547546    0.868954\n",
              "50%    2820.000000  2853.739868  -40.871460    2.064347\n",
              "75%    2941.566895  2973.263977   -4.918213    3.926947\n",
              "max    3404.792725  3384.328125  626.099121   21.664329"
            ]
          },
          "metadata": {
            "tags": []
          },
          "execution_count": 11
        }
      ]
    },
    {
      "cell_type": "code",
      "metadata": {
        "id": "UoSeLi8altE4",
        "colab": {
          "base_uri": "https://localhost:8080/",
          "height": 359
        },
        "outputId": "c925976a-de31-406e-bf05-67de21c2faeb"
      },
      "source": [
        "describe.head(10)"
      ],
      "execution_count": 12,
      "outputs": [
        {
          "output_type": "execute_result",
          "data": {
            "text/html": [
              "<div>\n",
              "<style scoped>\n",
              "    .dataframe tbody tr th:only-of-type {\n",
              "        vertical-align: middle;\n",
              "    }\n",
              "\n",
              "    .dataframe tbody tr th {\n",
              "        vertical-align: top;\n",
              "    }\n",
              "\n",
              "    .dataframe thead th {\n",
              "        text-align: right;\n",
              "    }\n",
              "</style>\n",
              "<table border=\"1\" class=\"dataframe\">\n",
              "  <thead>\n",
              "    <tr style=\"text-align: right;\">\n",
              "      <th></th>\n",
              "      <th>True Price</th>\n",
              "      <th>Prediction</th>\n",
              "      <th>difference</th>\n",
              "      <th>MAPE (%)</th>\n",
              "    </tr>\n",
              "  </thead>\n",
              "  <tbody>\n",
              "    <tr>\n",
              "      <th>0</th>\n",
              "      <td>2819.441406</td>\n",
              "      <td>2855.330078</td>\n",
              "      <td>-35.888672</td>\n",
              "      <td>1.272900</td>\n",
              "    </tr>\n",
              "    <tr>\n",
              "      <th>1</th>\n",
              "      <td>2829.197266</td>\n",
              "      <td>2853.814697</td>\n",
              "      <td>-24.617432</td>\n",
              "      <td>0.870121</td>\n",
              "    </tr>\n",
              "    <tr>\n",
              "      <th>2</th>\n",
              "      <td>2838.953125</td>\n",
              "      <td>2853.665039</td>\n",
              "      <td>-14.711914</td>\n",
              "      <td>0.518216</td>\n",
              "    </tr>\n",
              "    <tr>\n",
              "      <th>3</th>\n",
              "      <td>2838.953125</td>\n",
              "      <td>2855.772705</td>\n",
              "      <td>-16.819580</td>\n",
              "      <td>0.592457</td>\n",
              "    </tr>\n",
              "    <tr>\n",
              "      <th>4</th>\n",
              "      <td>2848.708984</td>\n",
              "      <td>2858.614258</td>\n",
              "      <td>-9.905273</td>\n",
              "      <td>0.347711</td>\n",
              "    </tr>\n",
              "    <tr>\n",
              "      <th>5</th>\n",
              "      <td>2829.197266</td>\n",
              "      <td>2862.965332</td>\n",
              "      <td>-33.768066</td>\n",
              "      <td>1.193556</td>\n",
              "    </tr>\n",
              "    <tr>\n",
              "      <th>6</th>\n",
              "      <td>2829.197266</td>\n",
              "      <td>2864.007568</td>\n",
              "      <td>-34.810303</td>\n",
              "      <td>1.230395</td>\n",
              "    </tr>\n",
              "    <tr>\n",
              "      <th>7</th>\n",
              "      <td>2799.929688</td>\n",
              "      <td>2863.102295</td>\n",
              "      <td>-63.172607</td>\n",
              "      <td>2.256221</td>\n",
              "    </tr>\n",
              "    <tr>\n",
              "      <th>8</th>\n",
              "      <td>2829.197266</td>\n",
              "      <td>2856.310791</td>\n",
              "      <td>-27.113525</td>\n",
              "      <td>0.958347</td>\n",
              "    </tr>\n",
              "    <tr>\n",
              "      <th>9</th>\n",
              "      <td>2819.441406</td>\n",
              "      <td>2852.562012</td>\n",
              "      <td>-33.120605</td>\n",
              "      <td>1.174722</td>\n",
              "    </tr>\n",
              "  </tbody>\n",
              "</table>\n",
              "</div>"
            ],
            "text/plain": [
              "    True Price   Prediction  difference  MAPE (%)\n",
              "0  2819.441406  2855.330078  -35.888672  1.272900\n",
              "1  2829.197266  2853.814697  -24.617432  0.870121\n",
              "2  2838.953125  2853.665039  -14.711914  0.518216\n",
              "3  2838.953125  2855.772705  -16.819580  0.592457\n",
              "4  2848.708984  2858.614258   -9.905273  0.347711\n",
              "5  2829.197266  2862.965332  -33.768066  1.193556\n",
              "6  2829.197266  2864.007568  -34.810303  1.230395\n",
              "7  2799.929688  2863.102295  -63.172607  2.256221\n",
              "8  2829.197266  2856.310791  -27.113525  0.958347\n",
              "9  2819.441406  2852.562012  -33.120605  1.174722"
            ]
          },
          "metadata": {
            "tags": []
          },
          "execution_count": 12
        }
      ]
    },
    {
      "cell_type": "code",
      "metadata": {
        "id": "xriB7R_tWpAM",
        "colab": {
          "base_uri": "https://localhost:8080/"
        },
        "outputId": "a89da6fb-74e4-4b03-8bee-fb978dc55a47"
      },
      "source": [
        "a = np.array(describe['True Price'])\n",
        "b = np.array(describe['Prediction'])\n",
        "\n",
        "# MSE\n",
        "difference_array = np.subtract(a, b)\n",
        "squared_array = np.square(difference_array)\n",
        "mse = squared_array.mean()\n",
        "print(\"MSE :\", mse)\n",
        "\n",
        "# The RMSE\n",
        "print(\"RMSE: %.2f\" % mean_squared_error(a, b, squared=False))\n",
        "\n",
        "# The MAE\n",
        "print(\"MAE: %.2f\" % mean_absolute_error(a, b))\n",
        "\n",
        "#Mean Absolute Percentange Error\n",
        "c = (np.mean(np.abs((a - b) / a))) * 100\n",
        "print('MAPE : ', c)\n",
        "\n",
        "# Explained variance score: 1 is perfect prediction\n",
        "from sklearn.metrics import r2_score\n",
        "print('R2 score: %.2f' % r2_score(a, b))\n",
        "\n"
      ],
      "execution_count": 13,
      "outputs": [
        {
          "output_type": "stream",
          "text": [
            "MSE : 10097.074277810054\n",
            "RMSE: 100.48\n",
            "MAE: 72.71\n",
            "MAPE :  2.7216946905349144\n",
            "R2 score: 0.91\n"
          ],
          "name": "stdout"
        }
      ]
    },
    {
      "cell_type": "code",
      "metadata": {
        "id": "iozJ262YxuM8",
        "colab": {
          "base_uri": "https://localhost:8080/"
        },
        "outputId": "78f123e5-b4e1-4c73-d72e-00e86b5bc905"
      },
      "source": [
        "print(model.evaluate(X_train, y_train))\n",
        "print(model.evaluate(X_test, y_test))"
      ],
      "execution_count": 14,
      "outputs": [
        {
          "output_type": "stream",
          "text": [
            "24/24 [==============================] - 10s 419ms/step - loss: 1.9756e-04 - accuracy: 0.0014\n",
            "[0.0001975622435566038, 0.0013568521244451404]\n",
            "8/8 [==============================] - 4s 414ms/step - loss: 1.2419e-04 - accuracy: 0.0000e+00\n",
            "[0.00012418505502864718, 0.0]\n"
          ],
          "name": "stdout"
        }
      ]
    },
    {
      "cell_type": "code",
      "metadata": {
        "id": "JRT-OjnyZ0PP",
        "colab": {
          "base_uri": "https://localhost:8080/"
        },
        "outputId": "ef5c9e5d-62bd-4045-c40e-dc930dc263c8"
      },
      "source": [
        "print(model.metrics_names)"
      ],
      "execution_count": 15,
      "outputs": [
        {
          "output_type": "stream",
          "text": [
            "['loss', 'accuracy']\n"
          ],
          "name": "stdout"
        }
      ]
    },
    {
      "cell_type": "code",
      "metadata": {
        "id": "qNCPEkeaXNIT"
      },
      "source": [
        "graph  = test_df.drop(test_df.index[0:300])\n",
        "graph.reset_index(inplace=True)\n",
        "graph.rename(columns = {'index':'Date'})\n",
        "graph = graph.drop(columns=['High','Low','Open','Volume','Close'])\n",
        "graph['Predict_Value'] = predicted_y[0]\n",
        "graph.head()\n",
        "graph.set_index('Date', inplace=True)"
      ],
      "execution_count": 16,
      "outputs": []
    },
    {
      "cell_type": "code",
      "metadata": {
        "id": "QF5LdxyJb0bT",
        "colab": {
          "base_uri": "https://localhost:8080/",
          "height": 299
        },
        "outputId": "676f48d6-f72b-4ea4-a3f3-e416adaf8097"
      },
      "source": [
        "# plot the results \n",
        "plt.plot(graph['Adj Close'], color = 'red', label = 'Real Stock Price')\n",
        "plt.plot(graph['Predict_Value'], color = 'blue', label = 'Predicted Stock Price')\n",
        "#plt.plot(df['Adj Close'], color = 'black', label = 'Past Stock')\n",
        "plt.title('Stock Price Prediction')\n",
        "plt.xlabel('Time')\n",
        "plt.ylabel('Stock Price')\n",
        "plt.legend()\n",
        "plt.savefig('Analisis 2019 - LINEAR 1.png')\n",
        "files.download(\"Analisis 2019 - LINEAR 1.png\")\n",
        "plt.show()"
      ],
      "execution_count": 17,
      "outputs": [
        {
          "output_type": "display_data",
          "data": {
            "application/javascript": [
              "\n",
              "    async function download(id, filename, size) {\n",
              "      if (!google.colab.kernel.accessAllowed) {\n",
              "        return;\n",
              "      }\n",
              "      const div = document.createElement('div');\n",
              "      const label = document.createElement('label');\n",
              "      label.textContent = `Downloading \"${filename}\": `;\n",
              "      div.appendChild(label);\n",
              "      const progress = document.createElement('progress');\n",
              "      progress.max = size;\n",
              "      div.appendChild(progress);\n",
              "      document.body.appendChild(div);\n",
              "\n",
              "      const buffers = [];\n",
              "      let downloaded = 0;\n",
              "\n",
              "      const channel = await google.colab.kernel.comms.open(id);\n",
              "      // Send a message to notify the kernel that we're ready.\n",
              "      channel.send({})\n",
              "\n",
              "      for await (const message of channel.messages) {\n",
              "        // Send a message to notify the kernel that we're ready.\n",
              "        channel.send({})\n",
              "        if (message.buffers) {\n",
              "          for (const buffer of message.buffers) {\n",
              "            buffers.push(buffer);\n",
              "            downloaded += buffer.byteLength;\n",
              "            progress.value = downloaded;\n",
              "          }\n",
              "        }\n",
              "      }\n",
              "      const blob = new Blob(buffers, {type: 'application/binary'});\n",
              "      const a = document.createElement('a');\n",
              "      a.href = window.URL.createObjectURL(blob);\n",
              "      a.download = filename;\n",
              "      div.appendChild(a);\n",
              "      a.click();\n",
              "      div.remove();\n",
              "    }\n",
              "  "
            ],
            "text/plain": [
              "<IPython.core.display.Javascript object>"
            ]
          },
          "metadata": {
            "tags": []
          }
        },
        {
          "output_type": "display_data",
          "data": {
            "application/javascript": [
              "download(\"download_c8103f3e-4a47-48c8-b4f9-8c5a3da25af5\", \"Analisis 2019 - LINEAR 1.png\", 33423)"
            ],
            "text/plain": [
              "<IPython.core.display.Javascript object>"
            ]
          },
          "metadata": {
            "tags": []
          }
        },
        {
          "output_type": "display_data",
          "data": {
            "image/png": "[encoded data removed]",
            "text/plain": [
              "<Figure size 432x288 with 1 Axes>"
            ]
          },
          "metadata": {
            "tags": []
          }
        }
      ]
    },
    {
      "cell_type": "code",
      "metadata": {
        "id": "RRepTsPgEuXx"
      },
      "source": [
        "final  = test_df.drop(test_df.index[0:300])\n",
        "final.reset_index(inplace=True)\n",
        "final.rename(columns = {'index':'Date'})\n",
        "final = final.drop(columns=['High','Low','Open','Volume','Close'])\n",
        "final['Predict_Value'] = predicted_y[0]\n",
        "final['Selisih'] = final['Adj Close'] - final['Predict_Value']\n",
        "final['Lost/Risk (%)'] = abs((final['Adj Close'] - final['Predict_Value'])/final['Predict_Value']*100)\n",
        "final = final.drop(columns=['Adj Close'])"
      ],
      "execution_count": 18,
      "outputs": []
    },
    {
      "cell_type": "code",
      "metadata": {
        "id": "DhwcCvlTySN1"
      },
      "source": [
        "percent = test_df.drop(test_df.index[0:299])\n",
        "percent = percent.drop(test_df.index[-1])\n",
        "percent.reset_index(inplace=True)\n",
        "percent.rename(columns = {'index':'Date'}) \n",
        "percent = percent.drop(columns=['High','Low','Open','Volume','Close'])\n",
        "percent['Next Day'] = predicted_y\n",
        "percent['Plus or Minus']= percent['Adj Close'] - percent['Next Day']\n",
        "percent['Next Day (%)']= (((percent['Adj Close'] - percent['Next Day'])/percent['Adj Close'])*100)"
      ],
      "execution_count": 19,
      "outputs": []
    },
    {
      "cell_type": "code",
      "metadata": {
        "id": "sllI6VucG__o"
      },
      "source": [
        "True_Next_Day = test_df.drop(test_df.index[0:299])\n",
        "True_Next_Day = True_Next_Day.drop(test_df.index[-1])\n",
        "True_Next_Day.reset_index(inplace=True)\n",
        "True_Next_Day.rename(columns = {'index':'Date'}) \n",
        "True_Next_Day = True_Next_Day.drop(columns=['High','Low','Open','Volume','Close'])\n",
        "True_Next_Day['True Next Day'] = org_y\n",
        "True_Next_Day['True Plus or Minus']= (True_Next_Day['Adj Close'] - True_Next_Day['True Next Day'])\n",
        "True_Next_Day['True Next Day (%)']= (((True_Next_Day['Adj Close'] - True_Next_Day['True Next Day'])/True_Next_Day['Adj Close'])*100)\n",
        "True_Next_Day = True_Next_Day.drop(columns=['Adj Close'])"
      ],
      "execution_count": 20,
      "outputs": []
    },
    {
      "cell_type": "code",
      "metadata": {
        "id": "121c4YuD-aJq",
        "colab": {
          "base_uri": "https://localhost:8080/"
        },
        "outputId": "1a8f0982-840e-45d7-fd67-d83b23f69292"
      },
      "source": [
        "Concating = percent.merge(final, how='outer', on='Date')\n",
        "Concating = Concating.merge(True_Next_Day, how='outer', on='Date')\n",
        "#Concating.set_index('Date', inplace=True)\n",
        "Final_Predict = Concating.copy()\n",
        "Final_Predict['Harga Saham Hari ini'] = Concating['Adj Close']\n",
        "Final_Predict['Prediksi Besok'] = Concating['Plus or Minus']\n",
        "Final_Predict['Harga Besok Sebenarnya'] = Concating['True Plus or Minus']\n",
        "Final_Predict['Prediksi Besok (%)'] = (Concating['Next Day (%)'])\n",
        "Final_Predict['Harga Besok Sebenarnya (%)'] = Concating['True Next Day (%)']\n",
        "Final_Predict['Selisih Prediksi'] = (Final_Predict['Harga Besok Sebenarnya'] - Final_Predict['Prediksi Besok'])\n",
        "Final_Predict['Harga Sebenarnya'] = Concating['True Next Day']\n",
        "#Mape V1\n",
        "Final_Predict['Risk/MAPE(%) - V1'] = (np.abs((Final_Predict['Harga Besok Sebenarnya'] - Final_Predict['Prediksi Besok']) / Final_Predict['Harga Sebenarnya'])) * 100\n",
        "Final_Predict['Risk/MAPE(%) - V1'] = round(Final_Predict['Risk/MAPE(%) - V1'], 2)\n",
        "#Mape V2\n",
        "Final_Predict['Risk/MAPE(%)- V2'] = (np.abs((Final_Predict['Harga Besok Sebenarnya'] - Final_Predict['Prediksi Besok']) / Final_Predict['Harga Besok Sebenarnya'])) * 100\n",
        "Final_Predict['Risk/MAPE(%)- V2'] = round(Final_Predict['Risk/MAPE(%)- V2'], 2)\n",
        "Final_Predict = Final_Predict.drop(columns=['Adj Close', 'Next Day', 'Plus or Minus', 'Next Day (%)',\n",
        "                                            'Predict_Value', 'Selisih', 'Lost/Risk (%)', 'True Plus or Minus',\n",
        "                                            'True Next Day (%)','True Next Day'])\n",
        "Final_Predict = Final_Predict.replace(0, np.nan)\n",
        "Final_Predict = Final_Predict.dropna()\n",
        "Final_Predict['Prediksi Uptrend'] = Final_Predict['Prediksi Besok'].apply(lambda x: 1 if x >= 0 else 0)\n",
        "Final_Predict['Asli Uptrend'] = Final_Predict['Harga Besok Sebenarnya'].apply(lambda x: 1 if x >= 0 else 0)\n",
        "Final_Predict.set_index('Date', inplace=True)\n",
        "Final_Predict.shape"
      ],
      "execution_count": 21,
      "outputs": [
        {
          "output_type": "execute_result",
          "data": {
            "text/plain": [
              "(209, 11)"
            ]
          },
          "metadata": {
            "tags": []
          },
          "execution_count": 21
        }
      ]
    },
    {
      "cell_type": "markdown",
      "metadata": {
        "id": "-B7BojpJDQgu"
      },
      "source": [
        "Risk Ekspektasi - Blindly belief\n",
        "\n",
        "Logika ekpektasi - Saham A saya beli kemarin Rp. 1000, dan prediksi ML LSTM menginfokan hari ini naik 200 menjadi 1200 sehingga saya tergetkan jual 1200. ketika saya jual 1200, ternyata harga penutupannya 1500, naik 500. berarti selisihnya dari prediksi dan harga asli adalah Rp 300 (Rp. 500 - Rp. 200), menandakan risiko ekpektasinya adalah 20% (Rp 300/1500) - Mape V1 - dari harga saham, sedangkan risiko ekpektasi kenaikan dan penurunannya adalah 60% dari ekpektasi kehilangan peluang (Ekpektasi peluang = (500-200)/500*100) - Mape V2 -\n",
        "\n",
        "Risiko Ekpektasi lainnya - \n",
        "Saham A saya beli kemarin Rp. 1000 dengan prediksi ML LSTM hari ini 1200, naik 200 sehingga saya tergetkan jual Rp. 1200. ketika saya melihat saham menyentuh 800, saya pikir itu adalah kesempatan beli karena perkiraan penutupan ML LSTM adalah 1200, dengan harapan mendapat keutungan ketika penutupan. Namun, prediksinya salah, dan ternyata penutupannya adalah 800 dan saham saya tidak laku, dan terjadi penurunan 200 dari hari kemarin. Disini saya kehilangan kesempatan cut loss dan justru menumpuk saham ketika seharusnya cutloss. Jika dikalkulasikan -400 dari harapan awal 1200 menjadi 800 (-200-200), menandakan risk ekpektasi dari harga sahamnya 50% (-400/800*100), atau perbedaan ekpektasinya 200% dari peluang cutloss. Risiko dari ketamakan."
      ]
    },
    {
      "cell_type": "code",
      "metadata": {
        "id": "ookffGOJ-lmk",
        "colab": {
          "base_uri": "https://localhost:8080/",
          "height": 577
        },
        "outputId": "d6f892f0-537b-4c74-8d17-e87bee05f478"
      },
      "source": [
        "Final_Predict.head(10)"
      ],
      "execution_count": 22,
      "outputs": [
        {
          "output_type": "execute_result",
          "data": {
            "text/html": [
              "<div>\n",
              "<style scoped>\n",
              "    .dataframe tbody tr th:only-of-type {\n",
              "        vertical-align: middle;\n",
              "    }\n",
              "\n",
              "    .dataframe tbody tr th {\n",
              "        vertical-align: top;\n",
              "    }\n",
              "\n",
              "    .dataframe thead th {\n",
              "        text-align: right;\n",
              "    }\n",
              "</style>\n",
              "<table border=\"1\" class=\"dataframe\">\n",
              "  <thead>\n",
              "    <tr style=\"text-align: right;\">\n",
              "      <th></th>\n",
              "      <th>Harga Saham Hari ini</th>\n",
              "      <th>Prediksi Besok</th>\n",
              "      <th>Harga Besok Sebenarnya</th>\n",
              "      <th>Prediksi Besok (%)</th>\n",
              "      <th>Harga Besok Sebenarnya (%)</th>\n",
              "      <th>Selisih Prediksi</th>\n",
              "      <th>Harga Sebenarnya</th>\n",
              "      <th>Risk/MAPE(%) - V1</th>\n",
              "      <th>Risk/MAPE(%)- V2</th>\n",
              "      <th>Prediksi Uptrend</th>\n",
              "      <th>Asli Uptrend</th>\n",
              "    </tr>\n",
              "    <tr>\n",
              "      <th>Date</th>\n",
              "      <th></th>\n",
              "      <th></th>\n",
              "      <th></th>\n",
              "      <th></th>\n",
              "      <th></th>\n",
              "      <th></th>\n",
              "      <th></th>\n",
              "      <th></th>\n",
              "      <th></th>\n",
              "      <th></th>\n",
              "      <th></th>\n",
              "    </tr>\n",
              "  </thead>\n",
              "  <tbody>\n",
              "    <tr>\n",
              "      <th>2019-01-01</th>\n",
              "      <td>2799.929688</td>\n",
              "      <td>-55.400391</td>\n",
              "      <td>-19.511719</td>\n",
              "      <td>-1.978635</td>\n",
              "      <td>-0.696865</td>\n",
              "      <td>35.888672</td>\n",
              "      <td>2819.441406</td>\n",
              "      <td>1.27</td>\n",
              "      <td>183.93</td>\n",
              "      <td>0</td>\n",
              "      <td>0</td>\n",
              "    </tr>\n",
              "    <tr>\n",
              "      <th>2019-01-02</th>\n",
              "      <td>2819.441406</td>\n",
              "      <td>-34.373291</td>\n",
              "      <td>-9.755859</td>\n",
              "      <td>-1.219153</td>\n",
              "      <td>-0.346021</td>\n",
              "      <td>24.617432</td>\n",
              "      <td>2829.197266</td>\n",
              "      <td>0.87</td>\n",
              "      <td>252.33</td>\n",
              "      <td>0</td>\n",
              "      <td>0</td>\n",
              "    </tr>\n",
              "    <tr>\n",
              "      <th>2019-01-03</th>\n",
              "      <td>2829.197266</td>\n",
              "      <td>-24.467773</td>\n",
              "      <td>-9.755859</td>\n",
              "      <td>-0.864831</td>\n",
              "      <td>-0.344828</td>\n",
              "      <td>14.711914</td>\n",
              "      <td>2838.953125</td>\n",
              "      <td>0.52</td>\n",
              "      <td>150.80</td>\n",
              "      <td>0</td>\n",
              "      <td>0</td>\n",
              "    </tr>\n",
              "    <tr>\n",
              "      <th>2019-01-07</th>\n",
              "      <td>2838.953125</td>\n",
              "      <td>-19.661133</td>\n",
              "      <td>-9.755859</td>\n",
              "      <td>-0.692549</td>\n",
              "      <td>-0.343643</td>\n",
              "      <td>9.905273</td>\n",
              "      <td>2848.708984</td>\n",
              "      <td>0.35</td>\n",
              "      <td>101.53</td>\n",
              "      <td>0</td>\n",
              "      <td>0</td>\n",
              "    </tr>\n",
              "    <tr>\n",
              "      <th>2019-01-08</th>\n",
              "      <td>2848.708984</td>\n",
              "      <td>-14.256348</td>\n",
              "      <td>19.511719</td>\n",
              "      <td>-0.500449</td>\n",
              "      <td>0.684932</td>\n",
              "      <td>33.768066</td>\n",
              "      <td>2829.197266</td>\n",
              "      <td>1.19</td>\n",
              "      <td>173.07</td>\n",
              "      <td>0</td>\n",
              "      <td>1</td>\n",
              "    </tr>\n",
              "    <tr>\n",
              "      <th>2019-01-10</th>\n",
              "      <td>2829.197266</td>\n",
              "      <td>-33.905029</td>\n",
              "      <td>29.267578</td>\n",
              "      <td>-1.198397</td>\n",
              "      <td>1.034483</td>\n",
              "      <td>63.172607</td>\n",
              "      <td>2799.929688</td>\n",
              "      <td>2.26</td>\n",
              "      <td>215.85</td>\n",
              "      <td>0</td>\n",
              "      <td>1</td>\n",
              "    </tr>\n",
              "    <tr>\n",
              "      <th>2019-01-11</th>\n",
              "      <td>2799.929688</td>\n",
              "      <td>-56.381104</td>\n",
              "      <td>-29.267578</td>\n",
              "      <td>-2.013661</td>\n",
              "      <td>-1.045297</td>\n",
              "      <td>27.113525</td>\n",
              "      <td>2829.197266</td>\n",
              "      <td>0.96</td>\n",
              "      <td>92.64</td>\n",
              "      <td>0</td>\n",
              "      <td>0</td>\n",
              "    </tr>\n",
              "    <tr>\n",
              "      <th>2019-01-14</th>\n",
              "      <td>2829.197266</td>\n",
              "      <td>-23.364746</td>\n",
              "      <td>9.755859</td>\n",
              "      <td>-0.825844</td>\n",
              "      <td>0.344828</td>\n",
              "      <td>33.120605</td>\n",
              "      <td>2819.441406</td>\n",
              "      <td>1.17</td>\n",
              "      <td>339.49</td>\n",
              "      <td>0</td>\n",
              "      <td>1</td>\n",
              "    </tr>\n",
              "    <tr>\n",
              "      <th>2019-01-16</th>\n",
              "      <td>2819.441406</td>\n",
              "      <td>-27.742432</td>\n",
              "      <td>58.535156</td>\n",
              "      <td>-0.983969</td>\n",
              "      <td>2.076126</td>\n",
              "      <td>86.277588</td>\n",
              "      <td>2760.906250</td>\n",
              "      <td>3.12</td>\n",
              "      <td>147.39</td>\n",
              "      <td>0</td>\n",
              "      <td>1</td>\n",
              "    </tr>\n",
              "    <tr>\n",
              "      <th>2019-01-17</th>\n",
              "      <td>2760.906250</td>\n",
              "      <td>-74.960938</td>\n",
              "      <td>48.779053</td>\n",
              "      <td>-2.715084</td>\n",
              "      <td>1.766777</td>\n",
              "      <td>123.739990</td>\n",
              "      <td>2712.127197</td>\n",
              "      <td>4.56</td>\n",
              "      <td>253.67</td>\n",
              "      <td>0</td>\n",
              "      <td>1</td>\n",
              "    </tr>\n",
              "  </tbody>\n",
              "</table>\n",
              "</div>"
            ],
            "text/plain": [
              "            Harga Saham Hari ini  ...  Asli Uptrend\n",
              "Date                              ...              \n",
              "2019-01-01           2799.929688  ...             0\n",
              "2019-01-02           2819.441406  ...             0\n",
              "2019-01-03           2829.197266  ...             0\n",
              "2019-01-07           2838.953125  ...             0\n",
              "2019-01-08           2848.708984  ...             1\n",
              "2019-01-10           2829.197266  ...             1\n",
              "2019-01-11           2799.929688  ...             0\n",
              "2019-01-14           2829.197266  ...             1\n",
              "2019-01-16           2819.441406  ...             1\n",
              "2019-01-17           2760.906250  ...             1\n",
              "\n",
              "[10 rows x 11 columns]"
            ]
          },
          "metadata": {
            "tags": []
          },
          "execution_count": 22
        }
      ]
    },
    {
      "cell_type": "code",
      "metadata": {
        "id": "nJ8kSjYQ4Mru",
        "colab": {
          "base_uri": "https://localhost:8080/"
        },
        "outputId": "7de0fb5a-5925-499c-9d0b-c44b4d840738"
      },
      "source": [
        "MAPE_V1 = np.mean(np.abs((Final_Predict['Harga Besok Sebenarnya'] - Final_Predict['Prediksi Besok']) / Final_Predict['Harga Sebenarnya'])) * 100\n",
        "print('Mape V1 :', MAPE_V1)"
      ],
      "execution_count": 23,
      "outputs": [
        {
          "output_type": "stream",
          "text": [
            "Mape V1 : 2.9406249788315657\n"
          ],
          "name": "stdout"
        }
      ]
    },
    {
      "cell_type": "code",
      "metadata": {
        "id": "wmiuagMCKc3w",
        "colab": {
          "base_uri": "https://localhost:8080/"
        },
        "outputId": "d2f7a291-27d9-42c4-bd54-c5d1a6c5e622"
      },
      "source": [
        "pred_uptrend = Final_Predict['Prediksi Uptrend']\n",
        "true_trend = Final_Predict['Asli Uptrend']\n",
        "\n",
        "# calculate accuracy\n",
        "from sklearn.metrics import accuracy_score\n",
        "Accuracy = accuracy_score(true_trend, pred_uptrend)\n",
        "print('Accuracy :', Accuracy)\n",
        "\n",
        "\n",
        "# calculate prediction\n",
        "from sklearn.metrics import precision_score\n",
        "precision = precision_score(true_trend, pred_uptrend, average='binary')\n",
        "print('Precision : %.3f' % precision)\n",
        "\n",
        "# calculate recall\n",
        "from sklearn.metrics import recall_score\n",
        "recall = recall_score(true_trend, pred_uptrend, average='binary')\n",
        "print('Recall : %.3f' % recall)\n",
        "\n",
        "# calculate score\n",
        "from sklearn.metrics import f1_score\n",
        "score = f1_score(true_trend, pred_uptrend, average='binary')\n",
        "print('F1 Score : %.3f' % score)\n",
        "\n",
        "#AUC Score\n",
        "from sklearn.metrics import roc_auc_score \n",
        "auc = roc_auc_score(true_trend, pred_uptrend)\n",
        "print('AUC Score : ', auc)"
      ],
      "execution_count": 24,
      "outputs": [
        {
          "output_type": "stream",
          "text": [
            "Accuracy : 0.44019138755980863\n",
            "Precision : 0.625\n",
            "Recall : 0.197\n",
            "F1 Score : 0.299\n",
            "AUC Score :  0.5069617822162474\n"
          ],
          "name": "stdout"
        }
      ]
    },
    {
      "cell_type": "code",
      "metadata": {
        "id": "J7yPx3k8WolI",
        "colab": {
          "base_uri": "https://localhost:8080/",
          "height": 337
        },
        "outputId": "6929e273-f663-429d-ff28-4998896d4358"
      },
      "source": [
        "from sklearn.metrics import confusion_matrix\n",
        "import seaborn as sns\n",
        "import matplotlib.pyplot as plt\n",
        "\n",
        "confusion_matrix(true_trend, pred_uptrend)\n",
        "plt.figure(figsize = (6, 5))\n",
        "sns.heatmap(confusion_matrix(true_trend, pred_uptrend), annot = True)"
      ],
      "execution_count": 25,
      "outputs": [
        {
          "output_type": "execute_result",
          "data": {
            "text/plain": [
              "<matplotlib.axes._subplots.AxesSubplot at 0x7f6c0e6686d0>"
            ]
          },
          "metadata": {
            "tags": []
          },
          "execution_count": 25
        },
        {
          "output_type": "display_data",
          "data": {
            "image/png": "[encoded data removed]",
            "text/plain": [
              "<Figure size 432x360 with 2 Axes>"
            ]
          },
          "metadata": {
            "tags": []
          }
        }
      ]
    },
    {
      "cell_type": "code",
      "metadata": {
        "id": "GL0g9D5qPtTK",
        "colab": {
          "base_uri": "https://localhost:8080/",
          "height": 282
        },
        "outputId": "85f2325d-9333-4854-c19e-352195dc9287"
      },
      "source": [
        "from sklearn.metrics import roc_curve \n",
        "fpr, tpr, thresholds = roc_curve(true_trend, pred_uptrend)\n",
        "\n",
        "\n",
        "import matplotlib.pyplot as plt \n",
        "plt.plot(fpr, tpr) \n",
        "plt.xlabel(\"False Positive Rate\") \n",
        "plt.ylabel(\"True Positive Rate\") \n",
        "plt.plot([0, 1], [0, 1], \"k--\") \n",
        "plt.show()"
      ],
      "execution_count": 26,
      "outputs": [
        {
          "output_type": "display_data",
          "data": {
            "image/png": "[encoded data removed]",
            "text/plain": [
              "<Figure size 432x288 with 1 Axes>"
            ]
          },
          "metadata": {
            "tags": []
          }
        }
      ]
    },
    {
      "cell_type": "code",
      "metadata": {
        "id": "kgXVUoOccIB1",
        "colab": {
          "base_uri": "https://localhost:8080/",
          "height": 299
        },
        "outputId": "20c574ca-5158-42c8-90ab-e4624e4e7979"
      },
      "source": [
        "# plot the results \n",
        "plt.plot(Final_Predict['Prediksi Besok'], color = 'red', label = 'Real Stock Price')\n",
        "plt.plot(Final_Predict['Harga Besok Sebenarnya'], color = 'blue', label = 'Predicted Stock Price')\n",
        "#plt.plot(Final_Predict['Risk/MAPE(%)'], color = 'black', label = 'RISK/MAPE(%)')\n",
        "plt.title('Stock Price Prediction')\n",
        "plt.xlabel('Time')\n",
        "plt.ylabel('Stock Price')\n",
        "plt.legend()\n",
        "plt.savefig('Analisis 2019 - LINEAR 2.png')\n",
        "files.download(\"Analisis 2019 - LINEAR 2.png\")\n",
        "plt.show()"
      ],
      "execution_count": 27,
      "outputs": [
        {
          "output_type": "display_data",
          "data": {
            "application/javascript": [
              "\n",
              "    async function download(id, filename, size) {\n",
              "      if (!google.colab.kernel.accessAllowed) {\n",
              "        return;\n",
              "      }\n",
              "      const div = document.createElement('div');\n",
              "      const label = document.createElement('label');\n",
              "      label.textContent = `Downloading \"${filename}\": `;\n",
              "      div.appendChild(label);\n",
              "      const progress = document.createElement('progress');\n",
              "      progress.max = size;\n",
              "      div.appendChild(progress);\n",
              "      document.body.appendChild(div);\n",
              "\n",
              "      const buffers = [];\n",
              "      let downloaded = 0;\n",
              "\n",
              "      const channel = await google.colab.kernel.comms.open(id);\n",
              "      // Send a message to notify the kernel that we're ready.\n",
              "      channel.send({})\n",
              "\n",
              "      for await (const message of channel.messages) {\n",
              "        // Send a message to notify the kernel that we're ready.\n",
              "        channel.send({})\n",
              "        if (message.buffers) {\n",
              "          for (const buffer of message.buffers) {\n",
              "            buffers.push(buffer);\n",
              "            downloaded += buffer.byteLength;\n",
              "            progress.value = downloaded;\n",
              "          }\n",
              "        }\n",
              "      }\n",
              "      const blob = new Blob(buffers, {type: 'application/binary'});\n",
              "      const a = document.createElement('a');\n",
              "      a.href = window.URL.createObjectURL(blob);\n",
              "      a.download = filename;\n",
              "      div.appendChild(a);\n",
              "      a.click();\n",
              "      div.remove();\n",
              "    }\n",
              "  "
            ],
            "text/plain": [
              "<IPython.core.display.Javascript object>"
            ]
          },
          "metadata": {
            "tags": []
          }
        },
        {
          "output_type": "display_data",
          "data": {
            "application/javascript": [
              "download(\"download_ec76eebe-3ee1-448d-9c4e-9087d0201811\", \"Analisis 2019 - LINEAR 2.png\", 34729)"
            ],
            "text/plain": [
              "<IPython.core.display.Javascript object>"
            ]
          },
          "metadata": {
            "tags": []
          }
        },
        {
          "output_type": "display_data",
          "data": {
            "image/png": "[encoded data removed]",
            "text/plain": [
              "<Figure size 432x288 with 1 Axes>"
            ]
          },
          "metadata": {
            "tags": []
          }
        }
      ]
    },
    {
      "cell_type": "code",
      "metadata": {
        "id": "PHW2vhEFiQlc",
        "colab": {
          "base_uri": "https://localhost:8080/"
        },
        "outputId": "f5b169eb-e98c-47a7-b20d-7a09a8fdf21f"
      },
      "source": [
        "# program body ends\n",
        "  \n",
        "time.sleep(1)\n",
        "# store end time\n",
        "end = time.time()\n",
        "  \n",
        "# total time taken\n",
        "print(f\"Total runtime of the program is {end - begin}\")"
      ],
      "execution_count": 28,
      "outputs": [
        {
          "output_type": "stream",
          "text": [
            "Total runtime of the program is 569.4880850315094\n"
          ],
          "name": "stdout"
        }
      ]
    },
    {
      "cell_type": "code",
      "metadata": {
        "id": "56pd4ZUSc9Vy",
        "colab": {
          "base_uri": "https://localhost:8080/",
          "height": 17
        },
        "outputId": "fdcf304a-17f1-46b9-aaff-6b950fa5349d"
      },
      "source": [
        "from google.colab import files\n",
        "Final_Predict.to_csv('Analisis 2019 - LINEAR.csv') \n",
        "files.download('Analisis 2019 - LINEAR.csv')"
      ],
      "execution_count": 29,
      "outputs": [
        {
          "output_type": "display_data",
          "data": {
            "application/javascript": [
              "\n",
              "    async function download(id, filename, size) {\n",
              "      if (!google.colab.kernel.accessAllowed) {\n",
              "        return;\n",
              "      }\n",
              "      const div = document.createElement('div');\n",
              "      const label = document.createElement('label');\n",
              "      label.textContent = `Downloading \"${filename}\": `;\n",
              "      div.appendChild(label);\n",
              "      const progress = document.createElement('progress');\n",
              "      progress.max = size;\n",
              "      div.appendChild(progress);\n",
              "      document.body.appendChild(div);\n",
              "\n",
              "      const buffers = [];\n",
              "      let downloaded = 0;\n",
              "\n",
              "      const channel = await google.colab.kernel.comms.open(id);\n",
              "      // Send a message to notify the kernel that we're ready.\n",
              "      channel.send({})\n",
              "\n",
              "      for await (const message of channel.messages) {\n",
              "        // Send a message to notify the kernel that we're ready.\n",
              "        channel.send({})\n",
              "        if (message.buffers) {\n",
              "          for (const buffer of message.buffers) {\n",
              "            buffers.push(buffer);\n",
              "            downloaded += buffer.byteLength;\n",
              "            progress.value = downloaded;\n",
              "          }\n",
              "        }\n",
              "      }\n",
              "      const blob = new Blob(buffers, {type: 'application/binary'});\n",
              "      const a = document.createElement('a');\n",
              "      a.href = window.URL.createObjectURL(blob);\n",
              "      a.download = filename;\n",
              "      div.appendChild(a);\n",
              "      a.click();\n",
              "      div.remove();\n",
              "    }\n",
              "  "
            ],
            "text/plain": [
              "<IPython.core.display.Javascript object>"
            ]
          },
          "metadata": {
            "tags": []
          }
        },
        {
          "output_type": "display_data",
          "data": {
            "application/javascript": [
              "download(\"download_8c66ad00-b300-4346-b4ac-9485590a4303\", \"Analisis 2019 - LINEAR.csv\", 27028)"
            ],
            "text/plain": [
              "<IPython.core.display.Javascript object>"
            ]
          },
          "metadata": {
            "tags": []
          }
        }
      ]
    }
  ]
}